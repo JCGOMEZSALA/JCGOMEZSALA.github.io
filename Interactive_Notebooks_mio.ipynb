{
  "nbformat": 4,
  "nbformat_minor": 0,
  "metadata": {
    "colab": {
      "name": "Interactive Notebooks_mio.ipynb",
      "version": "0.3.2",
      "provenance": [],
      "include_colab_link": true
    },
    "kernelspec": {
      "name": "python3",
      "display_name": "Python 3"
    },
    "accelerator": "GPU"
  },
  "cells": [
    {
      "cell_type": "markdown",
      "metadata": {
        "id": "view-in-github",
        "colab_type": "text"
      },
      "source": [
        "<a href=\"https://colab.research.google.com/github/JCGOMEZSALA/JCGOMEZSALA.github.io/blob/master/Interactive_Notebooks_mio.ipynb\" target=\"_parent\"><img src=\"https://colab.research.google.com/assets/colab-badge.svg\" alt=\"Open In Colab\"/></a>"
      ]
    },
    {
      "metadata": {
        "id": "INXO8cwZXNg4",
        "colab_type": "text"
      },
      "cell_type": "markdown",
      "source": [
        "<img src=\"https://web.ua.es/es/defc/imagenes/logotipo-defc.png\" width=\"180\">"
      ]
    },
    {
      "metadata": {
        "id": "uDXU5v1-j8Ie",
        "colab_type": "text"
      },
      "cell_type": "markdown",
      "source": [
        "# Interactive Notebooks\n",
        "\n",
        "-  [Ejemplos](https://www.stratascratch.com/python.html)"
      ]
    },
    {
      "metadata": {
        "id": "1bEbIRJfj8If",
        "colab_type": "text"
      },
      "cell_type": "markdown",
      "source": [
        "## Importing the modules\n",
        "\n",
        "**ipywidgets** is a new module we we will learn about in this lesson"
      ]
    },
    {
      "metadata": {
        "id": "GSVH_kAlX7he",
        "colab_type": "code",
        "colab": {}
      },
      "cell_type": "code",
      "source": [
        "!pip install psycopg2"
      ],
      "execution_count": 0,
      "outputs": []
    },
    {
      "metadata": {
        "id": "XO5VvNMrYGhC",
        "colab_type": "code",
        "colab": {}
      },
      "cell_type": "code",
      "source": [
        "!pip install ipywidgets"
      ],
      "execution_count": 0,
      "outputs": []
    },
    {
      "metadata": {
        "id": "KzAyrPp5j8Ih",
        "colab_type": "code",
        "colab": {}
      },
      "cell_type": "code",
      "source": [
        "import os\n",
        "import pandas as pd\n",
        "import numpy  as np\n",
        "\n",
        "# import psycopg2 as ps\n",
        "import matplotlib.pyplot as plt\n",
        "import ipywidgets as widgets\n",
        "\n",
        "# back end of ipywidgets\n",
        "from IPython.display import display"
      ],
      "execution_count": 0,
      "outputs": []
    },
    {
      "metadata": {
        "id": "ClfBhIB4j8Im",
        "colab_type": "text"
      },
      "cell_type": "markdown",
      "source": [
        "## Getting the data\n",
        "\n",
        "We will use **dc_bikeshare_q1_2012** dataset"
      ]
    },
    {
      "metadata": {
        "id": "pp8Tzp74j8In",
        "colab_type": "code",
        "outputId": "73bb8790-fbe9-4235-9a70-b8a590db1e7e",
        "colab": {
          "base_uri": "https://localhost:8080/",
          "height": 55
        }
      },
      "cell_type": "code",
      "source": [
        "'''\n",
        "# Connect to database\n",
        "host_name = 'db-strata.stratascratch.com'\n",
        "dbname = 'db_strata'\n",
        "port = '5432'\n",
        "# TODO Write your username and database password in the following two variables\n",
        "user_name = '' #enter username\n",
        "pwd = '' #enter your database password found in the profile tab in Strata Scratch\n",
        "\n",
        "try:\n",
        "    conn = ps.connect(host=host_name,database=dbname,user=user_name,password=pwd,port=port)\n",
        "except ps.OperationalError as e:\n",
        "    raise e\n",
        "else:\n",
        "    print('Connected!')\n",
        "\n",
        "'''"
      ],
      "execution_count": 0,
      "outputs": [
        {
          "output_type": "execute_result",
          "data": {
            "text/plain": [
              "\"\\n# Connect to database\\nhost_name = 'db-strata.stratascratch.com'\\ndbname = 'db_strata'\\nport = '5432'\\n# TODO Write your username and database password in the following two variables\\nuser_name = '' #enter username\\npwd = '' #enter your database password found in the profile tab in Strata Scratch\\n\\ntry:\\n    conn = ps.connect(host=host_name,database=dbname,user=user_name,password=pwd,port=port)\\nexcept ps.OperationalError as e:\\n    raise e\\nelse:\\n    print('Connected!')\\n\\n\""
            ]
          },
          "metadata": {
            "tags": []
          },
          "execution_count": 3
        }
      ]
    },
    {
      "metadata": {
        "id": "8o9arr06j8Iw",
        "colab_type": "code",
        "colab": {}
      },
      "cell_type": "code",
      "source": [
        "'''\n",
        "def get_dataset(dataset_name):\n",
        "    #Write SQL below to pull datasets \n",
        "    cur = conn.cursor()\n",
        "    cur.execute(\"\"\"SELECT *  FROM datasets.{0};\"\"\".format(dataset_name))\n",
        "    data = cur.fetchall()\n",
        "    colnames = [desc[0] for desc in cur.description] \n",
        "    conn.commit()\n",
        "\n",
        "    #create the pandas dataframe\n",
        "    dataframe = pd.DataFrame(data, columns=colnames)\n",
        "\n",
        "    #close the connection\n",
        "    cur.close()\n",
        "    \n",
        "    return dataframe\n",
        "\n",
        "dc_bikeshare = get_dataset(\"dc_bikeshare_q1_2012\")\n",
        "\n",
        "'''"
      ],
      "execution_count": 0,
      "outputs": []
    },
    {
      "metadata": {
        "id": "j4zCl1KJGJYU",
        "colab_type": "code",
        "colab": {}
      },
      "cell_type": "code",
      "source": [
        "# Importacion libreria !drive\n",
        "from google.colab import drive\n",
        "\n",
        "# Peticion e introduccion de clave\n",
        "drive.mount('/content/drive')"
      ],
      "execution_count": 0,
      "outputs": []
    },
    {
      "metadata": {
        "id": "7KHoYyIVGjV4",
        "colab_type": "code",
        "colab": {}
      },
      "cell_type": "code",
      "source": [
        "# Importacion de datos situados en una determinada carpeta\n",
        "dc_bikeshare = pd.read_csv('drive/My Drive/COLAB_NOTEBOOKS/Manual_de_Google/dc_bikeshare_q1_2012.csv')"
      ],
      "execution_count": 0,
      "outputs": []
    },
    {
      "metadata": {
        "id": "h2a99dEHHGIr",
        "colab_type": "code",
        "outputId": "845f23ff-8894-4e39-c745-4bb2e1d08753",
        "colab": {
          "base_uri": "https://localhost:8080/",
          "height": 266
        }
      },
      "cell_type": "code",
      "source": [
        "dc_bikeshare.info()"
      ],
      "execution_count": 0,
      "outputs": [
        {
          "output_type": "stream",
          "text": [
            "<class 'pandas.core.frame.DataFrame'>\n",
            "RangeIndex: 361317 entries, 0 to 361316\n",
            "Data columns (total 9 columns):\n",
            "Duration                361317 non-null int64\n",
            "Start date              361317 non-null object\n",
            "End date                361317 non-null object\n",
            "Start station number    361317 non-null int64\n",
            "Start station           361317 non-null object\n",
            "End station number      361317 non-null int64\n",
            "End station             361317 non-null object\n",
            "Bike number             361317 non-null object\n",
            "Member type             361317 non-null object\n",
            "dtypes: int64(3), object(6)\n",
            "memory usage: 24.8+ MB\n"
          ],
          "name": "stdout"
        }
      ]
    },
    {
      "metadata": {
        "id": "nBbFraqpj8I6",
        "colab_type": "text"
      },
      "cell_type": "markdown",
      "source": [
        "## Introduction to widgets"
      ]
    },
    {
      "metadata": {
        "id": "jcqDmTGRj8I7",
        "colab_type": "text"
      },
      "cell_type": "markdown",
      "source": [
        "### What are widgets\n",
        "\n",
        "- https://ipywidgets.readthedocs.io/en/latest/examples/Widget%20Basics.html\n",
        "\n",
        "Widgets are everything you see on screen when using any application and it is controlable by you. For example a button is widget because you can click it, a menu is a widget because you can select some item from that menu and so on. Each widget is a way for the user to control some value behind the widget. Son in essence widgets are user controlable function inputs.\n",
        "\n",
        "There is also another class of widgets called layouts. In ipywidgets we have HBox, VBox, Accordion and Tabs.\n",
        "\n",
        "Finally for convenience purpose we also non controllable widgets like labels and tooltips which are just text.\n",
        "\n",
        "### Widget types\n",
        "\n",
        "- https://ipywidgets.readthedocs.io/en/latest/examples/Widget%20List.html\n",
        "\n",
        "Jupyter supports sliders, range sliders, int and float text inputs, check boxes, drop downs, radio buttons, selectors, play widgets, date time selectors, color selectors and many more.\n",
        "\n",
        "### Creating widgets\n",
        "* To create any widget we use class constructors for that widget (e.g. `my_widget = widgets.IntSlider()`).\n",
        "* To display the widget we use the `display` function.\n",
        "* To get the value of the widget in some cell later we use `my_widget.value`\n",
        "* To release a widget call its close method (e.g. `my_widget.close()`)"
      ]
    },
    {
      "metadata": {
        "id": "jhgAn-Uvj8I7",
        "colab_type": "code",
        "outputId": "67c21805-0736-413a-de6d-854a223f1f8c",
        "colab": {
          "base_uri": "https://localhost:8080/",
          "height": 35
        }
      },
      "cell_type": "code",
      "source": [
        "w = widgets.IntSlider()\n",
        "\n",
        "display(w)"
      ],
      "execution_count": 0,
      "outputs": [
        {
          "output_type": "display_data",
          "data": {
            "application/vnd.jupyter.widget-view+json": {
              "model_id": "49a9d847e3624defa175ee2cde8146bd",
              "version_minor": 0,
              "version_major": 2
            },
            "text/plain": [
              "IntSlider(value=0)"
            ]
          },
          "metadata": {
            "tags": []
          }
        }
      ]
    },
    {
      "metadata": {
        "id": "0t_F2zTMj8JA",
        "colab_type": "code",
        "outputId": "ecf1ef59-ce37-404a-e357-5605242ba85b",
        "colab": {
          "base_uri": "https://localhost:8080/",
          "height": 35
        }
      },
      "cell_type": "code",
      "source": [
        "w.value * 42"
      ],
      "execution_count": 0,
      "outputs": [
        {
          "output_type": "execute_result",
          "data": {
            "text/plain": [
              "0"
            ]
          },
          "metadata": {
            "tags": []
          },
          "execution_count": 8
        }
      ]
    },
    {
      "metadata": {
        "id": "eUPSSYqxj8JF",
        "colab_type": "text"
      },
      "cell_type": "markdown",
      "source": [
        "###  The update problem\n",
        "\n",
        "You will quickly notice that the cell with code `w.value * 42` does not recompute itself automatically when you change the value of the widget and you must execute the cell manually to get new results. The reason for this behaviour is that these two cells are not aware of each other's changes.\n",
        "\n",
        "To make widgets which are aware of their environment and that we want some code to be executed whenever a widget changes value we use the `widgets.interact` method.\n",
        "\n",
        "- https://ipywidgets.readthedocs.io/en/latest/examples/Using%20Interact.html"
      ]
    },
    {
      "metadata": {
        "id": "Wp_sEcg0j8JG",
        "colab_type": "code",
        "outputId": "c8320b82-35d6-424e-8146-f4b271259702",
        "colab": {}
      },
      "cell_type": "code",
      "source": [
        "def count_of_rides(duration_seconds_upper_bound):\n",
        "    output = dc_bikeshare[dc_bikeshare.duration_seconds <= duration_seconds_upper_bound].shape[0]\n",
        "    \n",
        "    return \"There were a total of {0} rides shorter than {1} seconds\"\\\n",
        "           .format(output, duration_seconds_upper_bound)\n",
        "\n",
        "count_of_rides(120.0)"
      ],
      "execution_count": 0,
      "outputs": [
        {
          "output_type": "execute_result",
          "data": {
            "text/plain": [
              "'There were a total of 5786 rides shorter than 120.0 seconds'"
            ]
          },
          "metadata": {
            "tags": []
          },
          "execution_count": 7
        }
      ]
    },
    {
      "metadata": {
        "id": "FgtyQIj5j8JM",
        "colab_type": "code",
        "outputId": "5fdeb4c3-1bca-4ccb-ac94-ee860a97d1db",
        "colab": {}
      },
      "cell_type": "code",
      "source": [
        "widgets.interact(count_of_rides, \n",
        "                 duration_seconds_upper_bound = (0.0, 600.0, 1.0))"
      ],
      "execution_count": 0,
      "outputs": [
        {
          "output_type": "display_data",
          "data": {
            "application/vnd.jupyter.widget-view+json": {
              "model_id": "4ff915abf82e4d0087684a00c87e3d85"
            }
          },
          "metadata": {
            "tags": []
          }
        },
        {
          "output_type": "execute_result",
          "data": {
            "text/plain": [
              "<function __main__.count_of_rides>"
            ]
          },
          "metadata": {
            "tags": []
          },
          "execution_count": 8
        }
      ]
    },
    {
      "metadata": {
        "id": "Y6vpAVLSj8JQ",
        "colab_type": "text"
      },
      "cell_type": "markdown",
      "source": [
        "To use interact we need two things.\n",
        "- Function which will provide some output given an input provided by widgets\n",
        "- Description of input widgets\n",
        "\n",
        "To describe a input widgets we can use one of two formats:\n",
        "- Short (abbreviated) format (e.g. for a float slider (0.0, 600.0, 1.0))\n",
        "- Long format (e.g. for a slider widgets.FloatSlider(min=0.0, max=600.0, step=1.0)\n",
        "\n",
        "\n",
        "- https://ipywidgets.readthedocs.io/en/latest/examples/Using%20Interact.html#Widget-abbreviations\n",
        "\n",
        "The description of input widgets must be precise in the sense that if we define `f(x, y, z)` we must use `interact(f, x=..., y=..., z=...)` that is the names of the parameters must match in both the function and in `interact`."
      ]
    },
    {
      "metadata": {
        "id": "xQCyDwmUj8JR",
        "colab_type": "code",
        "outputId": "c768b679-061e-4164-864c-5239c8ffaa88",
        "colab": {}
      },
      "cell_type": "code",
      "source": [
        "def count_of_rides_between(start_seconds, end_seconds):\n",
        "    query_str = \"duration_seconds >= {0} and duration_seconds <= {1}\".format(start_seconds, end_seconds)\n",
        "    \n",
        "    output = dc_bikeshare.query(query_str).shape[0]\n",
        "    \n",
        "    return \"There were a total of {0} rides between {1} and {2} seconds\"\\\n",
        "           .format(output, start_seconds, end_seconds)\n",
        "    \n",
        "count_of_rides_between(60.0, 120.0)"
      ],
      "execution_count": 0,
      "outputs": [
        {
          "output_type": "execute_result",
          "data": {
            "text/plain": [
              "'There were a total of 2575 rides between 60.0 and 120.0 seconds'"
            ]
          },
          "metadata": {
            "tags": []
          },
          "execution_count": 9
        }
      ]
    },
    {
      "metadata": {
        "id": "DCL6itCWj8JZ",
        "colab_type": "code",
        "outputId": "2d722bae-70ab-46cd-ad93-952ade1e0c6c",
        "colab": {}
      },
      "cell_type": "code",
      "source": [
        "widgets.interact(count_of_rides_between,\n",
        "                 start_seconds = (0.0, 600.0, 1.0),\n",
        "                 end_seconds = widgets.FloatSlider(min=0.0, max=600.0, step=1.0))"
      ],
      "execution_count": 0,
      "outputs": [
        {
          "output_type": "display_data",
          "data": {
            "application/vnd.jupyter.widget-view+json": {
              "model_id": "38ebed44371d4bb286f670f63b244e24"
            }
          },
          "metadata": {
            "tags": []
          }
        },
        {
          "output_type": "execute_result",
          "data": {
            "text/plain": [
              "<function __main__.count_of_rides_between>"
            ]
          },
          "metadata": {
            "tags": []
          },
          "execution_count": 10
        }
      ]
    },
    {
      "metadata": {
        "id": "rXwjoeH8j8Je",
        "colab_type": "text"
      },
      "cell_type": "markdown",
      "source": [
        "The example above demonstrates using two widgets and a function with two parameters. There is no bound on the number of widgets and parameters. The next example will show how to use a function with 3 parameters."
      ]
    },
    {
      "metadata": {
        "id": "5vyypoUYj8Jf",
        "colab_type": "code",
        "colab": {}
      },
      "cell_type": "code",
      "source": [
        "def controlled_filter(start_station, bike_number, rider_type):\n",
        "    mask1 = dc_bikeshare.start_station == start_station\n",
        "    mask2 = dc_bikeshare.bike_number == bike_number\n",
        "    mask3 = dc_bikeshare.rider_type == rider_type\n",
        "    \n",
        "    data = dc_bikeshare[mask1 & mask2 & mask3]\n",
        "    \n",
        "    return data.head()"
      ],
      "execution_count": 0,
      "outputs": []
    },
    {
      "metadata": {
        "id": "UnDlgzHSj8Ji",
        "colab_type": "code",
        "outputId": "c399be6c-f9d7-4c27-aa0e-d4e085d0d789",
        "colab": {}
      },
      "cell_type": "code",
      "source": [
        "start_stations = dc_bikeshare.start_station.unique()\n",
        "bike_numbers   = dc_bikeshare.bike_number.unique()\n",
        "rider_types    = dc_bikeshare.rider_type.unique()\n",
        "\n",
        "# we use short formats to define widgets here\n",
        "widgets.interact(controlled_filter,\n",
        "         start_station = start_stations.tolist(),\n",
        "         bike_number = bike_numbers.tolist(),\n",
        "         rider_type = rider_types.tolist()\n",
        "        )"
      ],
      "execution_count": 0,
      "outputs": [
        {
          "output_type": "display_data",
          "data": {
            "application/vnd.jupyter.widget-view+json": {
              "model_id": "7d3054bfc91045689549390ec00fc235"
            }
          },
          "metadata": {
            "tags": []
          }
        },
        {
          "output_type": "execute_result",
          "data": {
            "text/plain": [
              "<function __main__.controlled_filter>"
            ]
          },
          "metadata": {
            "tags": []
          },
          "execution_count": 12
        }
      ]
    },
    {
      "metadata": {
        "id": "JDqJ_C4gj8Jo",
        "colab_type": "text"
      },
      "cell_type": "markdown",
      "source": [
        "As you just saw your function can return anything including dataframes. Actually we can also make dynamic plots and the following example will demonstrate that.\n",
        "\n",
        "The plots will be histograms of duration for each starting station."
      ]
    },
    {
      "metadata": {
        "id": "YRvXAtvij8Jq",
        "colab_type": "code",
        "outputId": "21ad374a-454c-4bfd-cb29-b5fe4f676459",
        "colab": {}
      },
      "cell_type": "code",
      "source": [
        "def plot_histogram(start_station, color):\n",
        "    data_local = dc_bikeshare[dc_bikeshare.start_station == start_station].copy()\n",
        "    \n",
        "    plt.hist(data_local.duration_seconds, range=(0, 1800), bins=200, color=color, alpha=0.8)\n",
        "    # gca stands for get current axis\n",
        "    plt.gca().set_title(\"Duration histogram for {0}\".format(start_station))\n",
        "    \n",
        "    plt.gca().set_xlabel(\"Duration in seconds\")\n",
        "    plt.gca().set_ylabel(\"Count\")\n",
        "    \n",
        "    plt.show()\n",
        "\n",
        "start_stations = dc_bikeshare.start_station.unique()\n",
        "\n",
        "widgets.interact(plot_histogram, \n",
        "                 start_station = start_stations.tolist(), \n",
        "                 color=[\"green\", \"orange\", \"xkcd:navy blue\"])"
      ],
      "execution_count": 0,
      "outputs": [
        {
          "output_type": "display_data",
          "data": {
            "application/vnd.jupyter.widget-view+json": {
              "model_id": "b71d05027595431f9d45336f8eb6a88d"
            }
          },
          "metadata": {
            "tags": []
          }
        },
        {
          "output_type": "execute_result",
          "data": {
            "text/plain": [
              "<function __main__.plot_histogram>"
            ]
          },
          "metadata": {
            "tags": []
          },
          "execution_count": 13
        }
      ]
    },
    {
      "metadata": {
        "id": "uzY1xlZSj8Ju",
        "colab_type": "text"
      },
      "cell_type": "markdown",
      "source": [
        "Finally we will see the Play Widget in use.\n",
        "\n",
        "We will redo our histogram example but now instead of users manually selecting streets an animation going through all streets will be played.\n",
        "\n",
        "Note that the play widgets iterates over a range of integers and gives integers so we will need to use integer position indexing.\n",
        "\n",
        "You may need to explicitely press the play button."
      ]
    },
    {
      "metadata": {
        "id": "4d4Xyubnj8Jw",
        "colab_type": "code",
        "outputId": "e5c8b7ba-d84f-4657-b9a3-a137d6661641",
        "colab": {}
      },
      "cell_type": "code",
      "source": [
        "start_stations = dc_bikeshare.start_station.unique()\n",
        "\n",
        "def plot_histogram_animated(start_station_idx, color):\n",
        "    start_station = start_stations[start_station_idx]\n",
        "    \n",
        "    data_local = dc_bikeshare[dc_bikeshare.start_station == start_station].copy()\n",
        "    \n",
        "    plt.hist(data_local.duration_seconds, range=(0, 1800), bins=200, color=color, alpha=0.8)\n",
        "    # gca stands for get current axis\n",
        "    plt.gca().set_title(\"Duration histogram for {0}\".format(start_station))\n",
        "    \n",
        "    plt.gca().set_xlabel(\"Duration in seconds\")\n",
        "    plt.gca().set_ylabel(\"Count\")\n",
        "    \n",
        "    plt.show()\n",
        "    \n",
        "widgets.interact(plot_histogram_animated, \n",
        "                 start_station_idx = widgets.Play(min=0, max=start_stations.shape[0], step=1, value=0), \n",
        "                 color=[\"green\", \"orange\", \"xkcd:navy blue\"])"
      ],
      "execution_count": 0,
      "outputs": [
        {
          "output_type": "display_data",
          "data": {
            "application/vnd.jupyter.widget-view+json": {
              "model_id": "a4cd21915b9944ea9c84275c71d68cef"
            }
          },
          "metadata": {
            "tags": []
          }
        },
        {
          "output_type": "execute_result",
          "data": {
            "text/plain": [
              "<function __main__.plot_histogram_animated>"
            ]
          },
          "metadata": {
            "tags": []
          },
          "execution_count": 14
        }
      ]
    },
    {
      "metadata": {
        "id": "tzeEy1cWj8J2",
        "colab_type": "text"
      },
      "cell_type": "markdown",
      "source": [
        "Remember there are many widgets and you can see the list of them at\n",
        "* https://ipywidgets.readthedocs.io/en/latest/examples/Widget%20List.html"
      ]
    },
    {
      "metadata": {
        "id": "yY9EwQcoj8J4",
        "colab_type": "text"
      },
      "cell_type": "markdown",
      "source": [
        "### The interact_manual method\n",
        "\n",
        "- https://ipywidgets.readthedocs.io/en/latest/examples/Using%20Interact.html#interact_manual\n",
        "\n",
        "Sometimes the function you call with interact can take quite a while to finish and because of the nature of interact any change in the value of the widgets will call that slow function again brining your system to a crawl. \n",
        "\n",
        "To solve this problem `interact_manual` was invented. Using it is same as using interact except that now you get a button which you need to click for changes to take effect."
      ]
    },
    {
      "metadata": {
        "id": "QlZ_zLupj8J5",
        "colab_type": "code",
        "outputId": "6931c18a-3427-4771-fccd-49f5b4b8d62d",
        "colab": {}
      },
      "cell_type": "code",
      "source": [
        "def slow_function(rider_type):\n",
        "    # For the sake of example assume this was a slow function\n",
        "    out = dc_bikeshare[dc_bikeshare.rider_type == rider_type].duration_seconds.median()\n",
        "    \n",
        "    return 'Median riding duration in seconds is ' + str(out)\n",
        "\n",
        "widgets.interact_manual(slow_function, rider_type=dc_bikeshare.rider_type.unique())"
      ],
      "execution_count": 0,
      "outputs": [
        {
          "output_type": "display_data",
          "data": {
            "application/vnd.jupyter.widget-view+json": {
              "model_id": "2604bfbf6e714815baa81387705e83b7"
            }
          },
          "metadata": {
            "tags": []
          }
        },
        {
          "output_type": "execute_result",
          "data": {
            "text/plain": [
              "<function __main__.slow_function>"
            ]
          },
          "metadata": {
            "tags": []
          },
          "execution_count": 15
        }
      ]
    },
    {
      "metadata": {
        "id": "190uEE8bkANa",
        "colab_type": "text"
      },
      "cell_type": "markdown",
      "source": [
        "## DATOS\n",
        "\n",
        "-[Capital Bikeshare](https://s3.amazonaws.com/capitalbikeshare-data/index.html)"
      ]
    },
    {
      "metadata": {
        "id": "umnkBcCOj8J9",
        "colab_type": "text"
      },
      "cell_type": "markdown",
      "source": [
        "### Exercises"
      ]
    },
    {
      "metadata": {
        "id": "6bSzlKkWj8J_",
        "colab_type": "text"
      },
      "cell_type": "markdown",
      "source": [
        "#### Exercise #1\n",
        "\n",
        "There is a date picker widget in ipywidgets. Use it to make a histogram plot of durations for all rides made in the chosen date.\n",
        "\n",
        "Hint: Use `dc_bikeshare.start_time.dt` to filter your data."
      ]
    },
    {
      "metadata": {
        "id": "Nx0_HT-rj8KA",
        "colab_type": "code",
        "colab": {}
      },
      "cell_type": "code",
      "source": [
        ""
      ],
      "execution_count": 0,
      "outputs": []
    },
    {
      "metadata": {
        "id": "Yox0_jG5j8KC",
        "colab_type": "text"
      },
      "cell_type": "markdown",
      "source": [
        "#### Exercise #2\n",
        "\n",
        "Make an interactive count of number of times a single bike was used.\n",
        "\n",
        "Hint: Use the bike_number column."
      ]
    },
    {
      "metadata": {
        "id": "SLLe6e_Gj8KD",
        "colab_type": "code",
        "colab": {}
      },
      "cell_type": "code",
      "source": [
        ""
      ],
      "execution_count": 0,
      "outputs": []
    },
    {
      "metadata": {
        "id": "ZNEcV_wCj8KG",
        "colab_type": "text"
      },
      "cell_type": "markdown",
      "source": [
        "#### Exercise #3\n",
        "\n",
        "Make a dataframe filter based on start_time and end_time\n",
        "\n",
        "Hint: Ignore the time component and use date pickers."
      ]
    },
    {
      "metadata": {
        "id": "Owrxb39Aj8KH",
        "colab_type": "code",
        "colab": {}
      },
      "cell_type": "code",
      "source": [
        ""
      ],
      "execution_count": 0,
      "outputs": []
    },
    {
      "metadata": {
        "id": "32fvUIlEj8KK",
        "colab_type": "code",
        "colab": {}
      },
      "cell_type": "code",
      "source": [
        ""
      ],
      "execution_count": 0,
      "outputs": []
    }
  ]
}